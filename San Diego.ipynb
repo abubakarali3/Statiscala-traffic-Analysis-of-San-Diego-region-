{
 "cells": [
  {
   "cell_type": "code",
   "execution_count": 41,
   "metadata": {},
   "outputs": [],
   "source": [
    "import pandas as pd\n",
    "import numpy as np\n",
    "import matplotlib.pyplot as plt\n",
    "import seaborn as sns\n",
    "%matplotlib inline"
   ]
  },
  {
   "cell_type": "code",
   "execution_count": 49,
   "metadata": {},
   "outputs": [
    {
     "data": {
      "text/html": [
       "<div>\n",
       "<style scoped>\n",
       "    .dataframe tbody tr th:only-of-type {\n",
       "        vertical-align: middle;\n",
       "    }\n",
       "\n",
       "    .dataframe tbody tr th {\n",
       "        vertical-align: top;\n",
       "    }\n",
       "\n",
       "    .dataframe thead th {\n",
       "        text-align: right;\n",
       "    }\n",
       "</style>\n",
       "<table border=\"1\" class=\"dataframe\">\n",
       "  <thead>\n",
       "    <tr style=\"text-align: right;\">\n",
       "      <th></th>\n",
       "      <th>OBJECTID</th>\n",
       "      <th>series</th>\n",
       "      <th>scenario_id</th>\n",
       "      <th>city</th>\n",
       "      <th>geo_id</th>\n",
       "      <th>name</th>\n",
       "      <th>persons</th>\n",
       "      <th>vmt</th>\n",
       "      <th>vmt_per_capita</th>\n",
       "      <th>PctMean</th>\n",
       "      <th>pctmean_txt</th>\n",
       "      <th>vmt_type</th>\n",
       "      <th>map_layer</th>\n",
       "      <th>geo</th>\n",
       "      <th>Shape__Area</th>\n",
       "      <th>Shape__Length</th>\n",
       "    </tr>\n",
       "  </thead>\n",
       "  <tbody>\n",
       "    <tr>\n",
       "      <td>0</td>\n",
       "      <td>1</td>\n",
       "      <td>Series 13</td>\n",
       "      <td>720</td>\n",
       "      <td>95.02</td>\n",
       "      <td>9502</td>\n",
       "      <td>95.02</td>\n",
       "      <td>3668</td>\n",
       "      <td>67342.21007</td>\n",
       "      <td>18.359381</td>\n",
       "      <td>1.043147</td>\n",
       "      <td>104.3%</td>\n",
       "      <td>Residents</td>\n",
       "      <td>2012 VMT per Capita by Census Tract</td>\n",
       "      <td>Census Tract</td>\n",
       "      <td>4.837013e+06</td>\n",
       "      <td>9160.417303</td>\n",
       "    </tr>\n",
       "    <tr>\n",
       "      <td>1</td>\n",
       "      <td>2</td>\n",
       "      <td>Series 13</td>\n",
       "      <td>720</td>\n",
       "      <td>95.04</td>\n",
       "      <td>9504</td>\n",
       "      <td>95.04</td>\n",
       "      <td>6226</td>\n",
       "      <td>141773.15510</td>\n",
       "      <td>22.771146</td>\n",
       "      <td>1.293815</td>\n",
       "      <td>129.4%</td>\n",
       "      <td>Residents</td>\n",
       "      <td>2012 VMT per Capita by Census Tract</td>\n",
       "      <td>Census Tract</td>\n",
       "      <td>8.326460e+07</td>\n",
       "      <td>56527.434241</td>\n",
       "    </tr>\n",
       "    <tr>\n",
       "      <td>2</td>\n",
       "      <td>3</td>\n",
       "      <td>Series 13</td>\n",
       "      <td>720</td>\n",
       "      <td>95.05</td>\n",
       "      <td>9505</td>\n",
       "      <td>95.05</td>\n",
       "      <td>6609</td>\n",
       "      <td>143731.36900</td>\n",
       "      <td>21.747824</td>\n",
       "      <td>1.235672</td>\n",
       "      <td>123.6%</td>\n",
       "      <td>Residents</td>\n",
       "      <td>2012 VMT per Capita by Census Tract</td>\n",
       "      <td>Census Tract</td>\n",
       "      <td>2.507101e+07</td>\n",
       "      <td>23423.135414</td>\n",
       "    </tr>\n",
       "    <tr>\n",
       "      <td>3</td>\n",
       "      <td>4</td>\n",
       "      <td>Series 13</td>\n",
       "      <td>720</td>\n",
       "      <td>95.06</td>\n",
       "      <td>9506</td>\n",
       "      <td>95.06</td>\n",
       "      <td>4291</td>\n",
       "      <td>77724.49796</td>\n",
       "      <td>18.113376</td>\n",
       "      <td>1.029169</td>\n",
       "      <td>102.9%</td>\n",
       "      <td>Residents</td>\n",
       "      <td>2012 VMT per Capita by Census Tract</td>\n",
       "      <td>Census Tract</td>\n",
       "      <td>2.164130e+06</td>\n",
       "      <td>7590.512449</td>\n",
       "    </tr>\n",
       "    <tr>\n",
       "      <td>4</td>\n",
       "      <td>5</td>\n",
       "      <td>Series 13</td>\n",
       "      <td>720</td>\n",
       "      <td>95.07</td>\n",
       "      <td>9507</td>\n",
       "      <td>95.07</td>\n",
       "      <td>3397</td>\n",
       "      <td>80276.33190</td>\n",
       "      <td>23.631537</td>\n",
       "      <td>1.342701</td>\n",
       "      <td>134.3%</td>\n",
       "      <td>Residents</td>\n",
       "      <td>2012 VMT per Capita by Census Tract</td>\n",
       "      <td>Census Tract</td>\n",
       "      <td>5.776957e+06</td>\n",
       "      <td>10464.821185</td>\n",
       "    </tr>\n",
       "  </tbody>\n",
       "</table>\n",
       "</div>"
      ],
      "text/plain": [
       "   OBJECTID     series  scenario_id   city  geo_id   name  persons  \\\n",
       "0         1  Series 13          720  95.02    9502  95.02     3668   \n",
       "1         2  Series 13          720  95.04    9504  95.04     6226   \n",
       "2         3  Series 13          720  95.05    9505  95.05     6609   \n",
       "3         4  Series 13          720  95.06    9506  95.06     4291   \n",
       "4         5  Series 13          720  95.07    9507  95.07     3397   \n",
       "\n",
       "            vmt  vmt_per_capita   PctMean pctmean_txt   vmt_type  \\\n",
       "0   67342.21007       18.359381  1.043147      104.3%  Residents   \n",
       "1  141773.15510       22.771146  1.293815      129.4%  Residents   \n",
       "2  143731.36900       21.747824  1.235672      123.6%  Residents   \n",
       "3   77724.49796       18.113376  1.029169      102.9%  Residents   \n",
       "4   80276.33190       23.631537  1.342701      134.3%  Residents   \n",
       "\n",
       "                             map_layer           geo   Shape__Area  \\\n",
       "0  2012 VMT per Capita by Census Tract  Census Tract  4.837013e+06   \n",
       "1  2012 VMT per Capita by Census Tract  Census Tract  8.326460e+07   \n",
       "2  2012 VMT per Capita by Census Tract  Census Tract  2.507101e+07   \n",
       "3  2012 VMT per Capita by Census Tract  Census Tract  2.164130e+06   \n",
       "4  2012 VMT per Capita by Census Tract  Census Tract  5.776957e+06   \n",
       "\n",
       "   Shape__Length  \n",
       "0    9160.417303  \n",
       "1   56527.434241  \n",
       "2   23423.135414  \n",
       "3    7590.512449  \n",
       "4   10464.821185  "
      ]
     },
     "execution_count": 49,
     "metadata": {},
     "output_type": "execute_result"
    }
   ],
   "source": [
    "df = pd.read_csv('San_Diego_Region_SB743_VMT_Maps.csv')\n",
    "df.head(5)"
   ]
  },
  {
   "cell_type": "code",
   "execution_count": 83,
   "metadata": {},
   "outputs": [
    {
     "data": {
      "text/html": [
       "<div>\n",
       "<style scoped>\n",
       "    .dataframe tbody tr th:only-of-type {\n",
       "        vertical-align: middle;\n",
       "    }\n",
       "\n",
       "    .dataframe tbody tr th {\n",
       "        vertical-align: top;\n",
       "    }\n",
       "\n",
       "    .dataframe thead th {\n",
       "        text-align: right;\n",
       "    }\n",
       "</style>\n",
       "<table border=\"1\" class=\"dataframe\">\n",
       "  <thead>\n",
       "    <tr style=\"text-align: right;\">\n",
       "      <th></th>\n",
       "      <th>OBJECTID</th>\n",
       "      <th>scenario_id</th>\n",
       "      <th>geo_id</th>\n",
       "      <th>persons</th>\n",
       "      <th>vmt</th>\n",
       "      <th>vmt_per_capita</th>\n",
       "      <th>PctMean</th>\n",
       "      <th>Shape__Area</th>\n",
       "      <th>Shape__Length</th>\n",
       "    </tr>\n",
       "  </thead>\n",
       "  <tbody>\n",
       "    <tr>\n",
       "      <td>count</td>\n",
       "      <td>2714.00000</td>\n",
       "      <td>2714.000000</td>\n",
       "      <td>2714.000000</td>\n",
       "      <td>2714.000000</td>\n",
       "      <td>2.714000e+03</td>\n",
       "      <td>2714.000000</td>\n",
       "      <td>2714.000000</td>\n",
       "      <td>2.714000e+03</td>\n",
       "      <td>2714.000000</td>\n",
       "    </tr>\n",
       "    <tr>\n",
       "      <td>mean</td>\n",
       "      <td>1357.50000</td>\n",
       "      <td>566.145910</td>\n",
       "      <td>12902.881356</td>\n",
       "      <td>5235.827561</td>\n",
       "      <td>1.108156e+05</td>\n",
       "      <td>21.670501</td>\n",
       "      <td>0.968782</td>\n",
       "      <td>3.481259e+07</td>\n",
       "      <td>17574.616903</td>\n",
       "    </tr>\n",
       "    <tr>\n",
       "      <td>std</td>\n",
       "      <td>783.60864</td>\n",
       "      <td>142.613754</td>\n",
       "      <td>11312.197561</td>\n",
       "      <td>11323.247640</td>\n",
       "      <td>2.421520e+05</td>\n",
       "      <td>7.873077</td>\n",
       "      <td>0.332112</td>\n",
       "      <td>2.237260e+08</td>\n",
       "      <td>33170.516906</td>\n",
       "    </tr>\n",
       "    <tr>\n",
       "      <td>min</td>\n",
       "      <td>1.00000</td>\n",
       "      <td>434.000000</td>\n",
       "      <td>100.000000</td>\n",
       "      <td>0.000000</td>\n",
       "      <td>0.000000e+00</td>\n",
       "      <td>0.000000</td>\n",
       "      <td>0.000000</td>\n",
       "      <td>4.757186e+04</td>\n",
       "      <td>1322.264424</td>\n",
       "    </tr>\n",
       "    <tr>\n",
       "      <td>25%</td>\n",
       "      <td>679.25000</td>\n",
       "      <td>434.000000</td>\n",
       "      <td>7701.000000</td>\n",
       "      <td>977.000000</td>\n",
       "      <td>2.353875e+04</td>\n",
       "      <td>17.016428</td>\n",
       "      <td>0.791637</td>\n",
       "      <td>1.694728e+06</td>\n",
       "      <td>6152.975277</td>\n",
       "    </tr>\n",
       "    <tr>\n",
       "      <td>50%</td>\n",
       "      <td>1357.50000</td>\n",
       "      <td>434.000000</td>\n",
       "      <td>13203.000000</td>\n",
       "      <td>3321.500000</td>\n",
       "      <td>5.950892e+04</td>\n",
       "      <td>20.670000</td>\n",
       "      <td>0.914254</td>\n",
       "      <td>3.113880e+06</td>\n",
       "      <td>8652.332014</td>\n",
       "    </tr>\n",
       "    <tr>\n",
       "      <td>75%</td>\n",
       "      <td>2035.75000</td>\n",
       "      <td>720.000000</td>\n",
       "      <td>17501.000000</td>\n",
       "      <td>5458.250000</td>\n",
       "      <td>1.005271e+05</td>\n",
       "      <td>24.790000</td>\n",
       "      <td>1.081201</td>\n",
       "      <td>7.066563e+06</td>\n",
       "      <td>14206.843935</td>\n",
       "    </tr>\n",
       "    <tr>\n",
       "      <td>max</td>\n",
       "      <td>2714.00000</td>\n",
       "      <td>720.000000</td>\n",
       "      <td>99900.000000</td>\n",
       "      <td>266259.000000</td>\n",
       "      <td>4.435828e+06</td>\n",
       "      <td>80.760000</td>\n",
       "      <td>4.155396</td>\n",
       "      <td>3.942634e+09</td>\n",
       "      <td>378494.180340</td>\n",
       "    </tr>\n",
       "  </tbody>\n",
       "</table>\n",
       "</div>"
      ],
      "text/plain": [
       "         OBJECTID  scenario_id        geo_id        persons           vmt  \\\n",
       "count  2714.00000  2714.000000   2714.000000    2714.000000  2.714000e+03   \n",
       "mean   1357.50000   566.145910  12902.881356    5235.827561  1.108156e+05   \n",
       "std     783.60864   142.613754  11312.197561   11323.247640  2.421520e+05   \n",
       "min       1.00000   434.000000    100.000000       0.000000  0.000000e+00   \n",
       "25%     679.25000   434.000000   7701.000000     977.000000  2.353875e+04   \n",
       "50%    1357.50000   434.000000  13203.000000    3321.500000  5.950892e+04   \n",
       "75%    2035.75000   720.000000  17501.000000    5458.250000  1.005271e+05   \n",
       "max    2714.00000   720.000000  99900.000000  266259.000000  4.435828e+06   \n",
       "\n",
       "       vmt_per_capita      PctMean   Shape__Area  Shape__Length  \n",
       "count     2714.000000  2714.000000  2.714000e+03    2714.000000  \n",
       "mean        21.670501     0.968782  3.481259e+07   17574.616903  \n",
       "std          7.873077     0.332112  2.237260e+08   33170.516906  \n",
       "min          0.000000     0.000000  4.757186e+04    1322.264424  \n",
       "25%         17.016428     0.791637  1.694728e+06    6152.975277  \n",
       "50%         20.670000     0.914254  3.113880e+06    8652.332014  \n",
       "75%         24.790000     1.081201  7.066563e+06   14206.843935  \n",
       "max         80.760000     4.155396  3.942634e+09  378494.180340  "
      ]
     },
     "execution_count": 83,
     "metadata": {},
     "output_type": "execute_result"
    }
   ],
   "source": [
    "df.describe()"
   ]
  },
  {
   "cell_type": "code",
   "execution_count": 93,
   "metadata": {},
   "outputs": [
    {
     "data": {
      "text/plain": [
       "(2714, 16)"
      ]
     },
     "execution_count": 93,
     "metadata": {},
     "output_type": "execute_result"
    }
   ],
   "source": [
    "df.shape"
   ]
  },
  {
   "cell_type": "markdown",
   "metadata": {},
   "source": [
    "1) outliers\n",
    "2) Missing Data\n",
    "3) Malicious Data\n",
    "4) Erroneous Data\n",
    "5) Irrelevant Data\n",
    "6) Inconsistent Data\n",
    "7) Formatting"
   ]
  },
  {
   "cell_type": "code",
   "execution_count": 103,
   "metadata": {},
   "outputs": [
    {
     "name": "stdout",
     "output_type": "stream",
     "text": [
      "OBJECTID            int64\n",
      "series             object\n",
      "scenario_id         int64\n",
      "city               object\n",
      "geo_id              int64\n",
      "name               object\n",
      "persons             int64\n",
      "vmt               float64\n",
      "vmt_per_capita    float64\n",
      "PctMean           float64\n",
      "pctmean_txt        object\n",
      "vmt_type           object\n",
      "map_layer          object\n",
      "geo                object\n",
      "Shape__Area       float64\n",
      "Shape__Length     float64\n",
      "dtype: object\n",
      "OBJECTID          0\n",
      "series            0\n",
      "scenario_id       0\n",
      "city              0\n",
      "geo_id            0\n",
      "name              0\n",
      "persons           0\n",
      "vmt               0\n",
      "vmt_per_capita    0\n",
      "PctMean           0\n",
      "pctmean_txt       0\n",
      "vmt_type          0\n",
      "map_layer         0\n",
      "geo               0\n",
      "Shape__Area       0\n",
      "Shape__Length     0\n",
      "dtype: int64\n",
      "duplicated :  0\n"
     ]
    }
   ],
   "source": [
    "print(df.dtypes)\n",
    "print(df.isnull().sum())\n",
    "print('duplicated : ',df.duplicated().sum())"
   ]
  },
  {
   "cell_type": "code",
   "execution_count": 104,
   "metadata": {},
   "outputs": [
    {
     "data": {
      "text/plain": [
       "<matplotlib.collections.PathCollection at 0x276d86bab48>"
      ]
     },
     "execution_count": 104,
     "metadata": {},
     "output_type": "execute_result"
    },
    {
     "data": {
      "image/png": "[encoded data removed]",
      "text/plain": [
       "<Figure size 1152x576 with 1 Axes>"
      ]
     },
     "metadata": {
      "needs_background": "light"
     },
     "output_type": "display_data"
    }
   ],
   "source": [
    "#Scatter plot shows all the data more likely to same distrbibution and no outliers but we can remove points where vmt_per_capita = 0.\n",
    "fig, ax = plt.subplots(figsize=(16,8))\n",
    "ax.scatter(df['geo_id'],df['vmt_per_capita'])"
   ]
  },
  {
   "cell_type": "code",
   "execution_count": 105,
   "metadata": {},
   "outputs": [],
   "source": [
    "df = df[df['vmt_per_capita']>0]"
   ]
  },
  {
   "cell_type": "code",
   "execution_count": 107,
   "metadata": {},
   "outputs": [
    {
     "data": {
      "text/plain": [
       "(2704, 16)"
      ]
     },
     "execution_count": 107,
     "metadata": {},
     "output_type": "execute_result"
    }
   ],
   "source": [
    "#10 rows are removed.\n",
    "df.shape"
   ]
  },
  {
   "cell_type": "markdown",
   "metadata": {},
   "source": [
    "# Data Exploration"
   ]
  },
  {
   "cell_type": "code",
   "execution_count": 82,
   "metadata": {},
   "outputs": [
    {
     "data": {
      "image/png": "[encoded data removed]",
      "text/plain": [
       "<Figure size 432x288 with 1 Axes>"
      ]
     },
     "metadata": {
      "needs_background": "light"
     },
     "output_type": "display_data"
    },
    {
     "data": {
      "image/png": "[encoded data removed]",
      "text/plain": [
       "<Figure size 432x288 with 1 Axes>"
      ]
     },
     "metadata": {
      "needs_background": "light"
     },
     "output_type": "display_data"
    },
    {
     "data": {
      "image/png": "[encoded data removed]",
      "text/plain": [
       "<Figure size 432x288 with 1 Axes>"
      ]
     },
     "metadata": {
      "needs_background": "light"
     },
     "output_type": "display_data"
    }
   ],
   "source": [
    "fig1 = plt.figure(1)\n",
    "scenario_id = df['scenario_id'].value_counts()\n",
    "scenario_id.plot(kind='bar')\n",
    "fig1.savefig('scenario_id.png')\n",
    "\n",
    "fig2 = plt.figure(2)\n",
    "series_count = df['series'].value_counts()\n",
    "series_count.plot(kind='bar')\n",
    "fig2.savefig('series_count.png')\n",
    "plt.xticks(rotation=25)\n",
    "\n",
    "fig3 = plt.figure(3)\n",
    "fig3 = df.groupby(['geo','vmt_type'])['vmt_per_capita'].mean().plot(kind='bar')\n",
    "fig2.savefig('vmt_per_capita by geo and vmt_type.png')\n",
    "\n",
    "plt.show()"
   ]
  },
  {
   "cell_type": "code",
   "execution_count": null,
   "metadata": {},
   "outputs": [],
   "source": []
  }
 ],
 "metadata": {
  "kernelspec": {
   "display_name": "Python 3",
   "language": "python",
   "name": "python3"
  },
  "language_info": {
   "codemirror_mode": {
    "name": "ipython",
    "version": 3
   },
   "file_extension": ".py",
   "mimetype": "text/x-python",
   "name": "python",
   "nbconvert_exporter": "python",
   "pygments_lexer": "ipython3",
   "version": "3.7.4"
  }
 },
 "nbformat": 4,
 "nbformat_minor": 2
}
